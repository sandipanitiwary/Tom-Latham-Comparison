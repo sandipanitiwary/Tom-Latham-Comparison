{
 "cells": [
  {
   "cell_type": "code",
   "execution_count": 1,
   "id": "ee67a1db",
   "metadata": {},
   "outputs": [],
   "source": [
    "import warnings\n",
    "warnings.filterwarnings('ignore')\n",
    "\n",
    "import pandas as pd\n",
    "import numpy as np\n",
    "\n",
    "import matplotlib.pyplot as plt\n",
    "\n",
    "pd.set_option('display.max_rows', None)\n",
    "pd.set_option('display.max_columns', None)  \n",
    "pd.set_option('display.expand_frame_repr', False)\n",
    "pd.set_option('max_colwidth', -1)\n"
   ]
  },
  {
   "cell_type": "code",
   "execution_count": 2,
   "id": "7cdc5351",
   "metadata": {},
   "outputs": [],
   "source": [
    "\n",
    "df= pd.read_csv(\"C:/Users/Arup G/Desktop/CRICKET ANALYTICS/CA Masterclass Bonuses/Special Bonus/Data Files/TESTS_ball_by_ball.csv\")"
   ]
  },
  {
   "cell_type": "code",
   "execution_count": 3,
   "id": "82529888",
   "metadata": {},
   "outputs": [
    {
     "data": {
      "text/html": [
       "<div>\n",
       "<style scoped>\n",
       "    .dataframe tbody tr th:only-of-type {\n",
       "        vertical-align: middle;\n",
       "    }\n",
       "\n",
       "    .dataframe tbody tr th {\n",
       "        vertical-align: top;\n",
       "    }\n",
       "\n",
       "    .dataframe thead th {\n",
       "        text-align: right;\n",
       "    }\n",
       "</style>\n",
       "<table border=\"1\" class=\"dataframe\">\n",
       "  <thead>\n",
       "    <tr style=\"text-align: right;\">\n",
       "      <th></th>\n",
       "      <th>match_id</th>\n",
       "      <th>season</th>\n",
       "      <th>start_date</th>\n",
       "      <th>venue</th>\n",
       "      <th>innings</th>\n",
       "      <th>ball</th>\n",
       "      <th>batting_team</th>\n",
       "      <th>bowling_team</th>\n",
       "      <th>striker</th>\n",
       "      <th>non_striker</th>\n",
       "      <th>bowler</th>\n",
       "      <th>runs_off_bat</th>\n",
       "      <th>extras</th>\n",
       "      <th>wides</th>\n",
       "      <th>noballs</th>\n",
       "      <th>byes</th>\n",
       "      <th>legbyes</th>\n",
       "      <th>penalty</th>\n",
       "      <th>wicket_type</th>\n",
       "      <th>player_dismissed</th>\n",
       "      <th>other_wicket_type</th>\n",
       "      <th>other_player_dismissed</th>\n",
       "    </tr>\n",
       "  </thead>\n",
       "  <tbody>\n",
       "    <tr>\n",
       "      <th>0</th>\n",
       "      <td>64071</td>\n",
       "      <td>2003/04</td>\n",
       "      <td>2004-03-08</td>\n",
       "      <td>Galle International Stadium</td>\n",
       "      <td>1</td>\n",
       "      <td>60.4</td>\n",
       "      <td>Australia</td>\n",
       "      <td>Sri Lanka</td>\n",
       "      <td>SK Warne</td>\n",
       "      <td>DS Lehmann</td>\n",
       "      <td>M Muralitharan</td>\n",
       "      <td>0</td>\n",
       "      <td>0</td>\n",
       "      <td>NaN</td>\n",
       "      <td>NaN</td>\n",
       "      <td>NaN</td>\n",
       "      <td>NaN</td>\n",
       "      <td>NaN</td>\n",
       "      <td>NaN</td>\n",
       "      <td>NaN</td>\n",
       "      <td>NaN</td>\n",
       "      <td>NaN</td>\n",
       "    </tr>\n",
       "    <tr>\n",
       "      <th>1</th>\n",
       "      <td>64071</td>\n",
       "      <td>2003/04</td>\n",
       "      <td>2004-03-08</td>\n",
       "      <td>Galle International Stadium</td>\n",
       "      <td>3</td>\n",
       "      <td>63.3</td>\n",
       "      <td>Australia</td>\n",
       "      <td>Sri Lanka</td>\n",
       "      <td>DR Martyn</td>\n",
       "      <td>ML Hayden</td>\n",
       "      <td>HDPK Dharmasena</td>\n",
       "      <td>0</td>\n",
       "      <td>0</td>\n",
       "      <td>NaN</td>\n",
       "      <td>NaN</td>\n",
       "      <td>NaN</td>\n",
       "      <td>NaN</td>\n",
       "      <td>NaN</td>\n",
       "      <td>NaN</td>\n",
       "      <td>NaN</td>\n",
       "      <td>NaN</td>\n",
       "      <td>NaN</td>\n",
       "    </tr>\n",
       "  </tbody>\n",
       "</table>\n",
       "</div>"
      ],
      "text/plain": [
       "   match_id   season  start_date                        venue  innings  ball batting_team bowling_team    striker non_striker           bowler  runs_off_bat  extras  wides  noballs  byes  legbyes  penalty wicket_type player_dismissed other_wicket_type other_player_dismissed\n",
       "0  64071     2003/04  2004-03-08  Galle International Stadium  1        60.4  Australia    Sri Lanka    SK Warne   DS Lehmann  M Muralitharan   0             0      NaN    NaN      NaN   NaN      NaN       NaN         NaN              NaN               NaN                  \n",
       "1  64071     2003/04  2004-03-08  Galle International Stadium  3        63.3  Australia    Sri Lanka    DR Martyn  ML Hayden   HDPK Dharmasena  0             0      NaN    NaN      NaN   NaN      NaN       NaN         NaN              NaN               NaN                  "
      ]
     },
     "execution_count": 3,
     "metadata": {},
     "output_type": "execute_result"
    }
   ],
   "source": [
    "df.head(2)"
   ]
  },
  {
   "cell_type": "code",
   "execution_count": 4,
   "id": "f9c8f7d3",
   "metadata": {},
   "outputs": [
    {
     "data": {
      "text/plain": [
       "(1319564, 22)"
      ]
     },
     "execution_count": 4,
     "metadata": {},
     "output_type": "execute_result"
    }
   ],
   "source": [
    "len(df), len(df.columns)"
   ]
  },
  {
   "cell_type": "code",
   "execution_count": 5,
   "id": "ef1cef16",
   "metadata": {},
   "outputs": [],
   "source": [
    "df['start_date'] = pd.to_datetime(df['start_date']) "
   ]
  },
  {
   "cell_type": "code",
   "execution_count": 6,
   "id": "f79cced5",
   "metadata": {},
   "outputs": [],
   "source": [
    "df['year'] = df['start_date'].dt.year"
   ]
  },
  {
   "cell_type": "code",
   "execution_count": 7,
   "id": "31646140",
   "metadata": {
    "scrolled": true
   },
   "outputs": [
    {
     "data": {
      "text/html": [
       "<div>\n",
       "<style scoped>\n",
       "    .dataframe tbody tr th:only-of-type {\n",
       "        vertical-align: middle;\n",
       "    }\n",
       "\n",
       "    .dataframe tbody tr th {\n",
       "        vertical-align: top;\n",
       "    }\n",
       "\n",
       "    .dataframe thead th {\n",
       "        text-align: right;\n",
       "    }\n",
       "</style>\n",
       "<table border=\"1\" class=\"dataframe\">\n",
       "  <thead>\n",
       "    <tr style=\"text-align: right;\">\n",
       "      <th></th>\n",
       "      <th>match_id</th>\n",
       "      <th>season</th>\n",
       "      <th>start_date</th>\n",
       "      <th>venue</th>\n",
       "      <th>innings</th>\n",
       "      <th>ball</th>\n",
       "      <th>batting_team</th>\n",
       "      <th>bowling_team</th>\n",
       "      <th>striker</th>\n",
       "      <th>non_striker</th>\n",
       "      <th>bowler</th>\n",
       "      <th>runs_off_bat</th>\n",
       "      <th>extras</th>\n",
       "      <th>wides</th>\n",
       "      <th>noballs</th>\n",
       "      <th>byes</th>\n",
       "      <th>legbyes</th>\n",
       "      <th>penalty</th>\n",
       "      <th>wicket_type</th>\n",
       "      <th>player_dismissed</th>\n",
       "      <th>other_wicket_type</th>\n",
       "      <th>other_player_dismissed</th>\n",
       "      <th>year</th>\n",
       "    </tr>\n",
       "  </thead>\n",
       "  <tbody>\n",
       "    <tr>\n",
       "      <th>0</th>\n",
       "      <td>64071</td>\n",
       "      <td>2003/04</td>\n",
       "      <td>2004-03-08</td>\n",
       "      <td>Galle International Stadium</td>\n",
       "      <td>1</td>\n",
       "      <td>60.4</td>\n",
       "      <td>Australia</td>\n",
       "      <td>Sri Lanka</td>\n",
       "      <td>SK Warne</td>\n",
       "      <td>DS Lehmann</td>\n",
       "      <td>M Muralitharan</td>\n",
       "      <td>0</td>\n",
       "      <td>0</td>\n",
       "      <td>NaN</td>\n",
       "      <td>NaN</td>\n",
       "      <td>NaN</td>\n",
       "      <td>NaN</td>\n",
       "      <td>NaN</td>\n",
       "      <td>NaN</td>\n",
       "      <td>NaN</td>\n",
       "      <td>NaN</td>\n",
       "      <td>NaN</td>\n",
       "      <td>2004</td>\n",
       "    </tr>\n",
       "    <tr>\n",
       "      <th>1</th>\n",
       "      <td>64071</td>\n",
       "      <td>2003/04</td>\n",
       "      <td>2004-03-08</td>\n",
       "      <td>Galle International Stadium</td>\n",
       "      <td>3</td>\n",
       "      <td>63.3</td>\n",
       "      <td>Australia</td>\n",
       "      <td>Sri Lanka</td>\n",
       "      <td>DR Martyn</td>\n",
       "      <td>ML Hayden</td>\n",
       "      <td>HDPK Dharmasena</td>\n",
       "      <td>0</td>\n",
       "      <td>0</td>\n",
       "      <td>NaN</td>\n",
       "      <td>NaN</td>\n",
       "      <td>NaN</td>\n",
       "      <td>NaN</td>\n",
       "      <td>NaN</td>\n",
       "      <td>NaN</td>\n",
       "      <td>NaN</td>\n",
       "      <td>NaN</td>\n",
       "      <td>NaN</td>\n",
       "      <td>2004</td>\n",
       "    </tr>\n",
       "  </tbody>\n",
       "</table>\n",
       "</div>"
      ],
      "text/plain": [
       "   match_id   season start_date                        venue  innings  ball batting_team bowling_team    striker non_striker           bowler  runs_off_bat  extras  wides  noballs  byes  legbyes  penalty wicket_type player_dismissed other_wicket_type other_player_dismissed  year\n",
       "0  64071     2003/04 2004-03-08  Galle International Stadium  1        60.4  Australia    Sri Lanka    SK Warne   DS Lehmann  M Muralitharan   0             0      NaN    NaN      NaN   NaN      NaN       NaN         NaN              NaN               NaN                    2004\n",
       "1  64071     2003/04 2004-03-08  Galle International Stadium  3        63.3  Australia    Sri Lanka    DR Martyn  ML Hayden   HDPK Dharmasena  0             0      NaN    NaN      NaN   NaN      NaN       NaN         NaN              NaN               NaN                    2004"
      ]
     },
     "execution_count": 7,
     "metadata": {},
     "output_type": "execute_result"
    }
   ],
   "source": [
    "df.head(2)"
   ]
  },
  {
   "cell_type": "code",
   "execution_count": 8,
   "id": "14ad247d",
   "metadata": {},
   "outputs": [],
   "source": [
    "df['innings'] = df['innings'].astype('int')"
   ]
  },
  {
   "cell_type": "code",
   "execution_count": 9,
   "id": "c1a9761c",
   "metadata": {},
   "outputs": [
    {
     "data": {
      "text/plain": [
       "array([1, 3, 2, 4])"
      ]
     },
     "execution_count": 9,
     "metadata": {},
     "output_type": "execute_result"
    }
   ],
   "source": [
    "df.innings.unique()"
   ]
  },
  {
   "cell_type": "code",
   "execution_count": 10,
   "id": "b928fc70",
   "metadata": {},
   "outputs": [],
   "source": [
    "df['runs_off_bat'] = df['runs_off_bat'].astype('int')"
   ]
  },
  {
   "cell_type": "code",
   "execution_count": 11,
   "id": "190d20bd",
   "metadata": {},
   "outputs": [
    {
     "data": {
      "text/plain": [
       "array([0, 3, 4, 1, 2, 6, 5, 7])"
      ]
     },
     "execution_count": 11,
     "metadata": {},
     "output_type": "execute_result"
    }
   ],
   "source": [
    "df['runs_off_bat'].unique()"
   ]
  },
  {
   "cell_type": "code",
   "execution_count": 12,
   "id": "29f630db",
   "metadata": {},
   "outputs": [],
   "source": [
    "modernera_df = df[(df.year >= 2011) & (df.year <= 2021)]"
   ]
  },
  {
   "cell_type": "code",
   "execution_count": 13,
   "id": "8c64e49f",
   "metadata": {
    "scrolled": true
   },
   "outputs": [
    {
     "data": {
      "text/html": [
       "<div>\n",
       "<style scoped>\n",
       "    .dataframe tbody tr th:only-of-type {\n",
       "        vertical-align: middle;\n",
       "    }\n",
       "\n",
       "    .dataframe tbody tr th {\n",
       "        vertical-align: top;\n",
       "    }\n",
       "\n",
       "    .dataframe thead th {\n",
       "        text-align: right;\n",
       "    }\n",
       "</style>\n",
       "<table border=\"1\" class=\"dataframe\">\n",
       "  <thead>\n",
       "    <tr style=\"text-align: right;\">\n",
       "      <th></th>\n",
       "      <th>match_id</th>\n",
       "      <th>season</th>\n",
       "      <th>start_date</th>\n",
       "      <th>venue</th>\n",
       "      <th>innings</th>\n",
       "      <th>ball</th>\n",
       "      <th>batting_team</th>\n",
       "      <th>bowling_team</th>\n",
       "      <th>striker</th>\n",
       "      <th>non_striker</th>\n",
       "      <th>bowler</th>\n",
       "      <th>runs_off_bat</th>\n",
       "      <th>extras</th>\n",
       "      <th>wides</th>\n",
       "      <th>noballs</th>\n",
       "      <th>byes</th>\n",
       "      <th>legbyes</th>\n",
       "      <th>penalty</th>\n",
       "      <th>wicket_type</th>\n",
       "      <th>player_dismissed</th>\n",
       "      <th>other_wicket_type</th>\n",
       "      <th>other_player_dismissed</th>\n",
       "      <th>year</th>\n",
       "    </tr>\n",
       "  </thead>\n",
       "  <tbody>\n",
       "    <tr>\n",
       "      <th>462052</th>\n",
       "      <td>463148</td>\n",
       "      <td>2010/11</td>\n",
       "      <td>2011-01-02</td>\n",
       "      <td>Newlands</td>\n",
       "      <td>4</td>\n",
       "      <td>81.6</td>\n",
       "      <td>India</td>\n",
       "      <td>South Africa</td>\n",
       "      <td>VVS Laxman</td>\n",
       "      <td>SR Tendulkar</td>\n",
       "      <td>M Morkel</td>\n",
       "      <td>0</td>\n",
       "      <td>0</td>\n",
       "      <td>NaN</td>\n",
       "      <td>NaN</td>\n",
       "      <td>NaN</td>\n",
       "      <td>NaN</td>\n",
       "      <td>NaN</td>\n",
       "      <td>NaN</td>\n",
       "      <td>NaN</td>\n",
       "      <td>NaN</td>\n",
       "      <td>NaN</td>\n",
       "      <td>2011</td>\n",
       "    </tr>\n",
       "  </tbody>\n",
       "</table>\n",
       "</div>"
      ],
      "text/plain": [
       "        match_id   season start_date     venue  innings  ball batting_team  bowling_team     striker   non_striker    bowler  runs_off_bat  extras  wides  noballs  byes  legbyes  penalty wicket_type player_dismissed other_wicket_type other_player_dismissed  year\n",
       "462052  463148    2010/11 2011-01-02  Newlands  4        81.6  India        South Africa  VVS Laxman  SR Tendulkar  M Morkel  0             0      NaN    NaN      NaN   NaN      NaN       NaN         NaN              NaN               NaN                    2011"
      ]
     },
     "execution_count": 13,
     "metadata": {},
     "output_type": "execute_result"
    }
   ],
   "source": [
    "modernera_df.head(1)"
   ]
  },
  {
   "cell_type": "code",
   "execution_count": 14,
   "id": "176e2736",
   "metadata": {},
   "outputs": [
    {
     "data": {
      "text/plain": [
       "array(['India', 'South Africa', 'Australia', 'England', 'Pakistan',\n",
       "       'New Zealand', 'West Indies', 'Sri Lanka', 'Bangladesh',\n",
       "       'Zimbabwe', 'Ireland', 'Afghanistan'], dtype=object)"
      ]
     },
     "execution_count": 14,
     "metadata": {},
     "output_type": "execute_result"
    }
   ],
   "source": [
    "modernera_df.batting_team.unique()"
   ]
  },
  {
   "cell_type": "code",
   "execution_count": 15,
   "id": "6fa98c69",
   "metadata": {},
   "outputs": [
    {
     "data": {
      "text/plain": [
       "array(['LRPL Taylor', 'MJ Guptill', 'JD Ryder', 'KS Williamson',\n",
       "       'RA Young', 'DL Vettori', 'BB McCullum', 'TG McIntosh', 'BJ Arnel',\n",
       "       'CS Martin', 'TG Southee', 'JEC Franklin', 'JS Patel',\n",
       "       'DG Brownlie', 'BJ Watling', 'DAJ Bracewell', 'TA Boult',\n",
       "       'CFK van Wyk', 'RJ Nicol', 'MR Gillespie', 'DR Flynn', 'N Wagner',\n",
       "       'TD Astle', 'C Munro', 'BP Martin', 'PG Fulton', 'HD Rutherford',\n",
       "       'CJ Anderson', 'IS Sodhi', 'AJ Redmond', 'JDS Neesham',\n",
       "       'TWM Latham', 'MD Craig', 'MJ Henry', 'L Ronchi', 'MJ Santner',\n",
       "       'HM Nicholls', 'JA Raval', 'C de Grandhomme', 'NT Broom',\n",
       "       'TA Blundell', 'AY Patel', 'WER Somerville', 'DJ Mitchell',\n",
       "       'LH Ferguson', 'GD Phillips', 'KA Jamieson', 'WA Young'],\n",
       "      dtype=object)"
      ]
     },
     "execution_count": 15,
     "metadata": {},
     "output_type": "execute_result"
    }
   ],
   "source": [
    "modernera_df[modernera_df.batting_team == 'New Zealand']['striker'].unique()"
   ]
  },
  {
   "cell_type": "code",
   "execution_count": 16,
   "id": "33ffad4d",
   "metadata": {},
   "outputs": [
    {
     "data": {
      "text/plain": [
       "array(['South Africa', 'India', 'England', 'Australia', 'New Zealand',\n",
       "       'Pakistan', 'West Indies', 'Sri Lanka', 'Zimbabwe', 'Bangladesh',\n",
       "       'Ireland', 'Afghanistan'], dtype=object)"
      ]
     },
     "execution_count": 16,
     "metadata": {},
     "output_type": "execute_result"
    }
   ],
   "source": [
    "modernera_df.bowling_team.unique()"
   ]
  },
  {
   "cell_type": "code",
   "execution_count": 17,
   "id": "55835401",
   "metadata": {
    "scrolled": true
   },
   "outputs": [
    {
     "data": {
      "text/plain": [
       "array(['Z Khan', 'Harbhajan Singh', 'S Sreesanth', 'I Sharma',\n",
       "       'SR Tendulkar', 'SK Raina', 'P Kumar', 'A Mishra', 'A Mithun',\n",
       "       'MM Patel', 'A Mukund', 'MS Dhoni', 'Yuvraj Singh', 'RP Singh',\n",
       "       'PP Ojha', 'UT Yadav', 'R Ashwin', 'V Sehwag', 'VR Aaron',\n",
       "       'V Kohli', 'R Vinay Kumar', 'RA Jadeja', 'PP Chawla', 'G Gambhir',\n",
       "       'B Kumar', 'Mohammed Shami', 'M Vijay', 'RG Sharma', 'S Dhawan',\n",
       "       'STR Binny', 'Pankaj Singh', 'S Pandey', 'J Goswami', 'E Bisht',\n",
       "       'N Niranjana', 'S Sharma', 'H Kaur', 'KV Sharma', 'CA Pujara',\n",
       "       'J Yadav', 'KK Nair', 'Kuldeep Yadav', 'HH Pandya', 'JJ Bumrah',\n",
       "       'GH Vihari', 'SN Thakur', 'S Nadeem', 'Mohammed Siraj', 'NA Saini',\n",
       "       'T Natarajan', 'Washington Sundar', 'AR Patel'], dtype=object)"
      ]
     },
     "execution_count": 17,
     "metadata": {},
     "output_type": "execute_result"
    }
   ],
   "source": [
    "modernera_df[modernera_df.bowling_team == 'India']['bowler'].unique()"
   ]
  },
  {
   "cell_type": "code",
   "execution_count": 18,
   "id": "82ad6e37",
   "metadata": {},
   "outputs": [],
   "source": [
    "TL_df0 = modernera_df[modernera_df.striker  == 'TWM Latham']"
   ]
  },
  {
   "cell_type": "code",
   "execution_count": 19,
   "id": "5e1a32bf",
   "metadata": {},
   "outputs": [
    {
     "data": {
      "text/html": [
       "<div>\n",
       "<style scoped>\n",
       "    .dataframe tbody tr th:only-of-type {\n",
       "        vertical-align: middle;\n",
       "    }\n",
       "\n",
       "    .dataframe tbody tr th {\n",
       "        vertical-align: top;\n",
       "    }\n",
       "\n",
       "    .dataframe thead th {\n",
       "        text-align: right;\n",
       "    }\n",
       "</style>\n",
       "<table border=\"1\" class=\"dataframe\">\n",
       "  <thead>\n",
       "    <tr style=\"text-align: right;\">\n",
       "      <th></th>\n",
       "      <th>match_id</th>\n",
       "      <th>season</th>\n",
       "      <th>start_date</th>\n",
       "      <th>venue</th>\n",
       "      <th>innings</th>\n",
       "      <th>ball</th>\n",
       "      <th>batting_team</th>\n",
       "      <th>bowling_team</th>\n",
       "      <th>striker</th>\n",
       "      <th>non_striker</th>\n",
       "      <th>bowler</th>\n",
       "      <th>runs_off_bat</th>\n",
       "      <th>extras</th>\n",
       "      <th>wides</th>\n",
       "      <th>noballs</th>\n",
       "      <th>byes</th>\n",
       "      <th>legbyes</th>\n",
       "      <th>penalty</th>\n",
       "      <th>wicket_type</th>\n",
       "      <th>player_dismissed</th>\n",
       "      <th>other_wicket_type</th>\n",
       "      <th>other_player_dismissed</th>\n",
       "      <th>year</th>\n",
       "    </tr>\n",
       "  </thead>\n",
       "  <tbody>\n",
       "    <tr>\n",
       "      <th>733367</th>\n",
       "      <td>667653</td>\n",
       "      <td>2013/14</td>\n",
       "      <td>2014-02-14</td>\n",
       "      <td>Basin Reserve</td>\n",
       "      <td>1</td>\n",
       "      <td>13.1</td>\n",
       "      <td>New Zealand</td>\n",
       "      <td>India</td>\n",
       "      <td>TWM Latham</td>\n",
       "      <td>KS Williamson</td>\n",
       "      <td>I Sharma</td>\n",
       "      <td>0</td>\n",
       "      <td>0</td>\n",
       "      <td>NaN</td>\n",
       "      <td>NaN</td>\n",
       "      <td>NaN</td>\n",
       "      <td>NaN</td>\n",
       "      <td>NaN</td>\n",
       "      <td>NaN</td>\n",
       "      <td>NaN</td>\n",
       "      <td>NaN</td>\n",
       "      <td>NaN</td>\n",
       "      <td>2014</td>\n",
       "    </tr>\n",
       "    <tr>\n",
       "      <th>733368</th>\n",
       "      <td>667653</td>\n",
       "      <td>2013/14</td>\n",
       "      <td>2014-02-14</td>\n",
       "      <td>Basin Reserve</td>\n",
       "      <td>1</td>\n",
       "      <td>13.2</td>\n",
       "      <td>New Zealand</td>\n",
       "      <td>India</td>\n",
       "      <td>TWM Latham</td>\n",
       "      <td>KS Williamson</td>\n",
       "      <td>I Sharma</td>\n",
       "      <td>0</td>\n",
       "      <td>0</td>\n",
       "      <td>NaN</td>\n",
       "      <td>NaN</td>\n",
       "      <td>NaN</td>\n",
       "      <td>NaN</td>\n",
       "      <td>NaN</td>\n",
       "      <td>NaN</td>\n",
       "      <td>NaN</td>\n",
       "      <td>NaN</td>\n",
       "      <td>NaN</td>\n",
       "      <td>2014</td>\n",
       "    </tr>\n",
       "  </tbody>\n",
       "</table>\n",
       "</div>"
      ],
      "text/plain": [
       "        match_id   season start_date          venue  innings  ball batting_team bowling_team     striker    non_striker    bowler  runs_off_bat  extras  wides  noballs  byes  legbyes  penalty wicket_type player_dismissed other_wicket_type other_player_dismissed  year\n",
       "733367  667653    2013/14 2014-02-14  Basin Reserve  1        13.1  New Zealand  India        TWM Latham  KS Williamson  I Sharma  0             0      NaN    NaN      NaN   NaN      NaN       NaN         NaN              NaN               NaN                    2014\n",
       "733368  667653    2013/14 2014-02-14  Basin Reserve  1        13.2  New Zealand  India        TWM Latham  KS Williamson  I Sharma  0             0      NaN    NaN      NaN   NaN      NaN       NaN         NaN              NaN               NaN                    2014"
      ]
     },
     "execution_count": 19,
     "metadata": {},
     "output_type": "execute_result"
    }
   ],
   "source": [
    "TL_df0.head(2)"
   ]
  },
  {
   "cell_type": "code",
   "execution_count": 20,
   "id": "0c4e5812",
   "metadata": {},
   "outputs": [],
   "source": [
    "# Matches = 56\n",
    "# Runs = 3929\n",
    "# Balls = 8420\n",
    "# Dismissed = 93\n",
    "# Avg = 42.25\n",
    "# SR = 46.66"
   ]
  },
  {
   "cell_type": "code",
   "execution_count": 21,
   "id": "a16a3171",
   "metadata": {},
   "outputs": [
    {
     "data": {
      "text/plain": [
       "56"
      ]
     },
     "execution_count": 21,
     "metadata": {},
     "output_type": "execute_result"
    }
   ],
   "source": [
    "len(TL_df0.match_id.unique())"
   ]
  },
  {
   "cell_type": "code",
   "execution_count": 22,
   "id": "57ffbc91",
   "metadata": {},
   "outputs": [
    {
     "data": {
      "text/plain": [
       "3929"
      ]
     },
     "execution_count": 22,
     "metadata": {},
     "output_type": "execute_result"
    }
   ],
   "source": [
    "sum(TL_df0.runs_off_bat)"
   ]
  },
  {
   "cell_type": "code",
   "execution_count": 23,
   "id": "0fc0ceb4",
   "metadata": {},
   "outputs": [
    {
     "data": {
      "text/plain": [
       "8420"
      ]
     },
     "execution_count": 23,
     "metadata": {},
     "output_type": "execute_result"
    }
   ],
   "source": [
    "len(TL_df0)"
   ]
  },
  {
   "cell_type": "code",
   "execution_count": 24,
   "id": "4e8b5461",
   "metadata": {},
   "outputs": [
    {
     "data": {
      "text/plain": [
       "93"
      ]
     },
     "execution_count": 24,
     "metadata": {},
     "output_type": "execute_result"
    }
   ],
   "source": [
    "len(TL_df0[TL_df0.player_dismissed == 'TWM Latham'])"
   ]
  },
  {
   "cell_type": "code",
   "execution_count": 25,
   "id": "8ea8be2c",
   "metadata": {},
   "outputs": [
    {
     "data": {
      "text/plain": [
       "42.24731182795699"
      ]
     },
     "execution_count": 25,
     "metadata": {},
     "output_type": "execute_result"
    }
   ],
   "source": [
    "sum(TL_df0.runs_off_bat)/(len(TL_df0[TL_df0.player_dismissed == 'TWM Latham']))"
   ]
  },
  {
   "cell_type": "code",
   "execution_count": 26,
   "id": "8de50bb9",
   "metadata": {},
   "outputs": [
    {
     "data": {
      "text/plain": [
       "46.66270783847981"
      ]
     },
     "execution_count": 26,
     "metadata": {},
     "output_type": "execute_result"
    }
   ],
   "source": [
    "100*sum(TL_df0.runs_off_bat)/(len(TL_df0))"
   ]
  },
  {
   "cell_type": "code",
   "execution_count": 27,
   "id": "486d000a",
   "metadata": {},
   "outputs": [],
   "source": [
    "TL_df = modernera_df[(modernera_df.striker  == 'TWM Latham') & (modernera_df.bowling_team  == 'India')]"
   ]
  },
  {
   "cell_type": "code",
   "execution_count": 28,
   "id": "a289180d",
   "metadata": {},
   "outputs": [
    {
     "data": {
      "text/html": [
       "<div>\n",
       "<style scoped>\n",
       "    .dataframe tbody tr th:only-of-type {\n",
       "        vertical-align: middle;\n",
       "    }\n",
       "\n",
       "    .dataframe tbody tr th {\n",
       "        vertical-align: top;\n",
       "    }\n",
       "\n",
       "    .dataframe thead th {\n",
       "        text-align: right;\n",
       "    }\n",
       "</style>\n",
       "<table border=\"1\" class=\"dataframe\">\n",
       "  <thead>\n",
       "    <tr style=\"text-align: right;\">\n",
       "      <th></th>\n",
       "      <th>match_id</th>\n",
       "      <th>season</th>\n",
       "      <th>start_date</th>\n",
       "      <th>venue</th>\n",
       "      <th>innings</th>\n",
       "      <th>ball</th>\n",
       "      <th>batting_team</th>\n",
       "      <th>bowling_team</th>\n",
       "      <th>striker</th>\n",
       "      <th>non_striker</th>\n",
       "      <th>bowler</th>\n",
       "      <th>runs_off_bat</th>\n",
       "      <th>extras</th>\n",
       "      <th>wides</th>\n",
       "      <th>noballs</th>\n",
       "      <th>byes</th>\n",
       "      <th>legbyes</th>\n",
       "      <th>penalty</th>\n",
       "      <th>wicket_type</th>\n",
       "      <th>player_dismissed</th>\n",
       "      <th>other_wicket_type</th>\n",
       "      <th>other_player_dismissed</th>\n",
       "      <th>year</th>\n",
       "    </tr>\n",
       "  </thead>\n",
       "  <tbody>\n",
       "    <tr>\n",
       "      <th>733367</th>\n",
       "      <td>667653</td>\n",
       "      <td>2013/14</td>\n",
       "      <td>2014-02-14</td>\n",
       "      <td>Basin Reserve</td>\n",
       "      <td>1</td>\n",
       "      <td>13.1</td>\n",
       "      <td>New Zealand</td>\n",
       "      <td>India</td>\n",
       "      <td>TWM Latham</td>\n",
       "      <td>KS Williamson</td>\n",
       "      <td>I Sharma</td>\n",
       "      <td>0</td>\n",
       "      <td>0</td>\n",
       "      <td>NaN</td>\n",
       "      <td>NaN</td>\n",
       "      <td>NaN</td>\n",
       "      <td>NaN</td>\n",
       "      <td>NaN</td>\n",
       "      <td>NaN</td>\n",
       "      <td>NaN</td>\n",
       "      <td>NaN</td>\n",
       "      <td>NaN</td>\n",
       "      <td>2014</td>\n",
       "    </tr>\n",
       "    <tr>\n",
       "      <th>733368</th>\n",
       "      <td>667653</td>\n",
       "      <td>2013/14</td>\n",
       "      <td>2014-02-14</td>\n",
       "      <td>Basin Reserve</td>\n",
       "      <td>1</td>\n",
       "      <td>13.2</td>\n",
       "      <td>New Zealand</td>\n",
       "      <td>India</td>\n",
       "      <td>TWM Latham</td>\n",
       "      <td>KS Williamson</td>\n",
       "      <td>I Sharma</td>\n",
       "      <td>0</td>\n",
       "      <td>0</td>\n",
       "      <td>NaN</td>\n",
       "      <td>NaN</td>\n",
       "      <td>NaN</td>\n",
       "      <td>NaN</td>\n",
       "      <td>NaN</td>\n",
       "      <td>NaN</td>\n",
       "      <td>NaN</td>\n",
       "      <td>NaN</td>\n",
       "      <td>NaN</td>\n",
       "      <td>2014</td>\n",
       "    </tr>\n",
       "  </tbody>\n",
       "</table>\n",
       "</div>"
      ],
      "text/plain": [
       "        match_id   season start_date          venue  innings  ball batting_team bowling_team     striker    non_striker    bowler  runs_off_bat  extras  wides  noballs  byes  legbyes  penalty wicket_type player_dismissed other_wicket_type other_player_dismissed  year\n",
       "733367  667653    2013/14 2014-02-14  Basin Reserve  1        13.1  New Zealand  India        TWM Latham  KS Williamson  I Sharma  0             0      NaN    NaN      NaN   NaN      NaN       NaN         NaN              NaN               NaN                    2014\n",
       "733368  667653    2013/14 2014-02-14  Basin Reserve  1        13.2  New Zealand  India        TWM Latham  KS Williamson  I Sharma  0             0      NaN    NaN      NaN   NaN      NaN       NaN         NaN              NaN               NaN                    2014"
      ]
     },
     "execution_count": 28,
     "metadata": {},
     "output_type": "execute_result"
    }
   ],
   "source": [
    "TL_df.head(2)"
   ]
  },
  {
   "cell_type": "code",
   "execution_count": 29,
   "id": "aceae775",
   "metadata": {},
   "outputs": [],
   "source": [
    "# Matches = 6\n",
    "# Runs = 345\n",
    "# Balls = 732\n",
    "# Dismissed = 11\n",
    "# Avg = 31.36\n",
    "# SR = 47.13"
   ]
  },
  {
   "cell_type": "code",
   "execution_count": 30,
   "id": "42a453f9",
   "metadata": {},
   "outputs": [
    {
     "data": {
      "text/plain": [
       "6"
      ]
     },
     "execution_count": 30,
     "metadata": {},
     "output_type": "execute_result"
    }
   ],
   "source": [
    "len(TL_df.match_id.unique())"
   ]
  },
  {
   "cell_type": "code",
   "execution_count": 31,
   "id": "95518a9c",
   "metadata": {},
   "outputs": [
    {
     "data": {
      "text/plain": [
       "345"
      ]
     },
     "execution_count": 31,
     "metadata": {},
     "output_type": "execute_result"
    }
   ],
   "source": [
    "sum(TL_df.runs_off_bat)"
   ]
  },
  {
   "cell_type": "code",
   "execution_count": 32,
   "id": "3e82e58b",
   "metadata": {},
   "outputs": [
    {
     "data": {
      "text/plain": [
       "732"
      ]
     },
     "execution_count": 32,
     "metadata": {},
     "output_type": "execute_result"
    }
   ],
   "source": [
    "len(TL_df)"
   ]
  },
  {
   "cell_type": "code",
   "execution_count": 33,
   "id": "0aeaa093",
   "metadata": {},
   "outputs": [
    {
     "data": {
      "text/plain": [
       "11"
      ]
     },
     "execution_count": 33,
     "metadata": {},
     "output_type": "execute_result"
    }
   ],
   "source": [
    "len(TL_df[TL_df.player_dismissed == 'TWM Latham'])"
   ]
  },
  {
   "cell_type": "code",
   "execution_count": 34,
   "id": "211e9a92",
   "metadata": {},
   "outputs": [
    {
     "data": {
      "text/plain": [
       "31.363636363636363"
      ]
     },
     "execution_count": 34,
     "metadata": {},
     "output_type": "execute_result"
    }
   ],
   "source": [
    "sum(TL_df.runs_off_bat)/(len(TL_df[TL_df.player_dismissed == 'TWM Latham']))"
   ]
  },
  {
   "cell_type": "code",
   "execution_count": 35,
   "id": "563b2ffa",
   "metadata": {},
   "outputs": [
    {
     "data": {
      "text/plain": [
       "47.131147540983605"
      ]
     },
     "execution_count": 35,
     "metadata": {},
     "output_type": "execute_result"
    }
   ],
   "source": [
    "100*sum(TL_df.runs_off_bat)/(len(TL_df))"
   ]
  },
  {
   "cell_type": "code",
   "execution_count": 36,
   "id": "0bd6092f",
   "metadata": {},
   "outputs": [],
   "source": [
    "TL_df1 = modernera_df[(modernera_df.striker  == 'TWM Latham') & (modernera_df.bowler  == 'Mohammed Shami')]"
   ]
  },
  {
   "cell_type": "code",
   "execution_count": 37,
   "id": "5c9d2be8",
   "metadata": {},
   "outputs": [
    {
     "data": {
      "text/html": [
       "<div>\n",
       "<style scoped>\n",
       "    .dataframe tbody tr th:only-of-type {\n",
       "        vertical-align: middle;\n",
       "    }\n",
       "\n",
       "    .dataframe tbody tr th {\n",
       "        vertical-align: top;\n",
       "    }\n",
       "\n",
       "    .dataframe thead th {\n",
       "        text-align: right;\n",
       "    }\n",
       "</style>\n",
       "<table border=\"1\" class=\"dataframe\">\n",
       "  <thead>\n",
       "    <tr style=\"text-align: right;\">\n",
       "      <th></th>\n",
       "      <th>match_id</th>\n",
       "      <th>season</th>\n",
       "      <th>start_date</th>\n",
       "      <th>venue</th>\n",
       "      <th>innings</th>\n",
       "      <th>ball</th>\n",
       "      <th>batting_team</th>\n",
       "      <th>bowling_team</th>\n",
       "      <th>striker</th>\n",
       "      <th>non_striker</th>\n",
       "      <th>bowler</th>\n",
       "      <th>runs_off_bat</th>\n",
       "      <th>extras</th>\n",
       "      <th>wides</th>\n",
       "      <th>noballs</th>\n",
       "      <th>byes</th>\n",
       "      <th>legbyes</th>\n",
       "      <th>penalty</th>\n",
       "      <th>wicket_type</th>\n",
       "      <th>player_dismissed</th>\n",
       "      <th>other_wicket_type</th>\n",
       "      <th>other_player_dismissed</th>\n",
       "      <th>year</th>\n",
       "    </tr>\n",
       "  </thead>\n",
       "  <tbody>\n",
       "    <tr>\n",
       "      <th>733667</th>\n",
       "      <td>667653</td>\n",
       "      <td>2013/14</td>\n",
       "      <td>2014-02-14</td>\n",
       "      <td>Basin Reserve</td>\n",
       "      <td>3</td>\n",
       "      <td>17.1</td>\n",
       "      <td>New Zealand</td>\n",
       "      <td>India</td>\n",
       "      <td>TWM Latham</td>\n",
       "      <td>BB McCullum</td>\n",
       "      <td>Mohammed Shami</td>\n",
       "      <td>4</td>\n",
       "      <td>0</td>\n",
       "      <td>NaN</td>\n",
       "      <td>NaN</td>\n",
       "      <td>NaN</td>\n",
       "      <td>NaN</td>\n",
       "      <td>NaN</td>\n",
       "      <td>NaN</td>\n",
       "      <td>NaN</td>\n",
       "      <td>NaN</td>\n",
       "      <td>NaN</td>\n",
       "      <td>2014</td>\n",
       "    </tr>\n",
       "  </tbody>\n",
       "</table>\n",
       "</div>"
      ],
      "text/plain": [
       "        match_id   season start_date          venue  innings  ball batting_team bowling_team     striker  non_striker          bowler  runs_off_bat  extras  wides  noballs  byes  legbyes  penalty wicket_type player_dismissed other_wicket_type other_player_dismissed  year\n",
       "733667  667653    2013/14 2014-02-14  Basin Reserve  3        17.1  New Zealand  India        TWM Latham  BB McCullum  Mohammed Shami  4             0      NaN    NaN      NaN   NaN      NaN       NaN         NaN              NaN               NaN                    2014"
      ]
     },
     "execution_count": 37,
     "metadata": {},
     "output_type": "execute_result"
    }
   ],
   "source": [
    "TL_df1.head(1)"
   ]
  },
  {
   "cell_type": "code",
   "execution_count": 38,
   "id": "124dff82",
   "metadata": {},
   "outputs": [],
   "source": [
    "# Matches = 6\n",
    "# Runs = 82\n",
    "# Balls = 172\n",
    "# Dismissed = 3\n",
    "# Avg = 27.33\n",
    "# SR = 47.67"
   ]
  },
  {
   "cell_type": "code",
   "execution_count": 39,
   "id": "3ac3bb96",
   "metadata": {},
   "outputs": [
    {
     "data": {
      "text/plain": [
       "6"
      ]
     },
     "execution_count": 39,
     "metadata": {},
     "output_type": "execute_result"
    }
   ],
   "source": [
    "len(TL_df1.match_id.unique())"
   ]
  },
  {
   "cell_type": "code",
   "execution_count": 40,
   "id": "67414550",
   "metadata": {},
   "outputs": [
    {
     "data": {
      "text/plain": [
       "82"
      ]
     },
     "execution_count": 40,
     "metadata": {},
     "output_type": "execute_result"
    }
   ],
   "source": [
    "sum(TL_df1.runs_off_bat)"
   ]
  },
  {
   "cell_type": "code",
   "execution_count": 41,
   "id": "d7032196",
   "metadata": {},
   "outputs": [
    {
     "data": {
      "text/plain": [
       "172"
      ]
     },
     "execution_count": 41,
     "metadata": {},
     "output_type": "execute_result"
    }
   ],
   "source": [
    "len(TL_df1)"
   ]
  },
  {
   "cell_type": "code",
   "execution_count": 42,
   "id": "f34c1627",
   "metadata": {},
   "outputs": [
    {
     "data": {
      "text/plain": [
       "3"
      ]
     },
     "execution_count": 42,
     "metadata": {},
     "output_type": "execute_result"
    }
   ],
   "source": [
    "len(TL_df1[TL_df1.player_dismissed == 'TWM Latham'])"
   ]
  },
  {
   "cell_type": "code",
   "execution_count": 43,
   "id": "734972a9",
   "metadata": {},
   "outputs": [
    {
     "data": {
      "text/plain": [
       "27.333333333333332"
      ]
     },
     "execution_count": 43,
     "metadata": {},
     "output_type": "execute_result"
    }
   ],
   "source": [
    "sum(TL_df1.runs_off_bat)/(len(TL_df1[TL_df1.player_dismissed == 'TWM Latham']))"
   ]
  },
  {
   "cell_type": "code",
   "execution_count": 44,
   "id": "bf807c06",
   "metadata": {},
   "outputs": [
    {
     "data": {
      "text/plain": [
       "47.674418604651166"
      ]
     },
     "execution_count": 44,
     "metadata": {},
     "output_type": "execute_result"
    }
   ],
   "source": [
    "100*sum(TL_df1.runs_off_bat)/(len(TL_df1))"
   ]
  },
  {
   "cell_type": "code",
   "execution_count": 45,
   "id": "d2cd1871",
   "metadata": {},
   "outputs": [],
   "source": [
    "TL_df2 = modernera_df[(modernera_df.striker  == 'TWM Latham') & (modernera_df.bowler  == 'I Sharma')]"
   ]
  },
  {
   "cell_type": "code",
   "execution_count": 46,
   "id": "f722f94b",
   "metadata": {},
   "outputs": [
    {
     "data": {
      "text/html": [
       "<div>\n",
       "<style scoped>\n",
       "    .dataframe tbody tr th:only-of-type {\n",
       "        vertical-align: middle;\n",
       "    }\n",
       "\n",
       "    .dataframe tbody tr th {\n",
       "        vertical-align: top;\n",
       "    }\n",
       "\n",
       "    .dataframe thead th {\n",
       "        text-align: right;\n",
       "    }\n",
       "</style>\n",
       "<table border=\"1\" class=\"dataframe\">\n",
       "  <thead>\n",
       "    <tr style=\"text-align: right;\">\n",
       "      <th></th>\n",
       "      <th>match_id</th>\n",
       "      <th>season</th>\n",
       "      <th>start_date</th>\n",
       "      <th>venue</th>\n",
       "      <th>innings</th>\n",
       "      <th>ball</th>\n",
       "      <th>batting_team</th>\n",
       "      <th>bowling_team</th>\n",
       "      <th>striker</th>\n",
       "      <th>non_striker</th>\n",
       "      <th>bowler</th>\n",
       "      <th>runs_off_bat</th>\n",
       "      <th>extras</th>\n",
       "      <th>wides</th>\n",
       "      <th>noballs</th>\n",
       "      <th>byes</th>\n",
       "      <th>legbyes</th>\n",
       "      <th>penalty</th>\n",
       "      <th>wicket_type</th>\n",
       "      <th>player_dismissed</th>\n",
       "      <th>other_wicket_type</th>\n",
       "      <th>other_player_dismissed</th>\n",
       "      <th>year</th>\n",
       "    </tr>\n",
       "  </thead>\n",
       "  <tbody>\n",
       "    <tr>\n",
       "      <th>733367</th>\n",
       "      <td>667653</td>\n",
       "      <td>2013/14</td>\n",
       "      <td>2014-02-14</td>\n",
       "      <td>Basin Reserve</td>\n",
       "      <td>1</td>\n",
       "      <td>13.1</td>\n",
       "      <td>New Zealand</td>\n",
       "      <td>India</td>\n",
       "      <td>TWM Latham</td>\n",
       "      <td>KS Williamson</td>\n",
       "      <td>I Sharma</td>\n",
       "      <td>0</td>\n",
       "      <td>0</td>\n",
       "      <td>NaN</td>\n",
       "      <td>NaN</td>\n",
       "      <td>NaN</td>\n",
       "      <td>NaN</td>\n",
       "      <td>NaN</td>\n",
       "      <td>NaN</td>\n",
       "      <td>NaN</td>\n",
       "      <td>NaN</td>\n",
       "      <td>NaN</td>\n",
       "      <td>2014</td>\n",
       "    </tr>\n",
       "  </tbody>\n",
       "</table>\n",
       "</div>"
      ],
      "text/plain": [
       "        match_id   season start_date          venue  innings  ball batting_team bowling_team     striker    non_striker    bowler  runs_off_bat  extras  wides  noballs  byes  legbyes  penalty wicket_type player_dismissed other_wicket_type other_player_dismissed  year\n",
       "733367  667653    2013/14 2014-02-14  Basin Reserve  1        13.1  New Zealand  India        TWM Latham  KS Williamson  I Sharma  0             0      NaN    NaN      NaN   NaN      NaN       NaN         NaN              NaN               NaN                    2014"
      ]
     },
     "execution_count": 46,
     "metadata": {},
     "output_type": "execute_result"
    }
   ],
   "source": [
    "TL_df2.head(1)"
   ]
  },
  {
   "cell_type": "code",
   "execution_count": 47,
   "id": "9975368b",
   "metadata": {},
   "outputs": [],
   "source": [
    "# Matches = 2\n",
    "# Runs = 9\n",
    "# Balls = 36\n",
    "# Dismissed = 2\n",
    "# Avg = 4.5\n",
    "# SR = 25"
   ]
  },
  {
   "cell_type": "code",
   "execution_count": 48,
   "id": "783a80b9",
   "metadata": {},
   "outputs": [
    {
     "data": {
      "text/plain": [
       "2"
      ]
     },
     "execution_count": 48,
     "metadata": {},
     "output_type": "execute_result"
    }
   ],
   "source": [
    "len(TL_df2.match_id.unique())"
   ]
  },
  {
   "cell_type": "code",
   "execution_count": 49,
   "id": "456a5524",
   "metadata": {},
   "outputs": [
    {
     "data": {
      "text/plain": [
       "9"
      ]
     },
     "execution_count": 49,
     "metadata": {},
     "output_type": "execute_result"
    }
   ],
   "source": [
    "sum(TL_df2.runs_off_bat)"
   ]
  },
  {
   "cell_type": "code",
   "execution_count": 50,
   "id": "6c2fff6f",
   "metadata": {},
   "outputs": [
    {
     "data": {
      "text/plain": [
       "36"
      ]
     },
     "execution_count": 50,
     "metadata": {},
     "output_type": "execute_result"
    }
   ],
   "source": [
    "len(TL_df2)"
   ]
  },
  {
   "cell_type": "code",
   "execution_count": 51,
   "id": "cd7ff2b6",
   "metadata": {},
   "outputs": [
    {
     "data": {
      "text/plain": [
       "2"
      ]
     },
     "execution_count": 51,
     "metadata": {},
     "output_type": "execute_result"
    }
   ],
   "source": [
    "len(TL_df2[TL_df2.player_dismissed == 'TWM Latham'])"
   ]
  },
  {
   "cell_type": "code",
   "execution_count": 52,
   "id": "e1ba6510",
   "metadata": {},
   "outputs": [
    {
     "data": {
      "text/plain": [
       "4.5"
      ]
     },
     "execution_count": 52,
     "metadata": {},
     "output_type": "execute_result"
    }
   ],
   "source": [
    "sum(TL_df2.runs_off_bat)/(len(TL_df2[TL_df2.player_dismissed == 'TWM Latham']))"
   ]
  },
  {
   "cell_type": "code",
   "execution_count": 53,
   "id": "aa919047",
   "metadata": {},
   "outputs": [
    {
     "data": {
      "text/plain": [
       "25.0"
      ]
     },
     "execution_count": 53,
     "metadata": {},
     "output_type": "execute_result"
    }
   ],
   "source": [
    "100*sum(TL_df2.runs_off_bat)/(len(TL_df2))"
   ]
  },
  {
   "cell_type": "code",
   "execution_count": 54,
   "id": "57c04ca6",
   "metadata": {},
   "outputs": [],
   "source": [
    "TL_df3 = modernera_df[(modernera_df.striker  == 'TWM Latham') & (modernera_df.bowler  == 'JJ Bumrah')]"
   ]
  },
  {
   "cell_type": "code",
   "execution_count": 55,
   "id": "1182edeb",
   "metadata": {
    "scrolled": true
   },
   "outputs": [
    {
     "data": {
      "text/html": [
       "<div>\n",
       "<style scoped>\n",
       "    .dataframe tbody tr th:only-of-type {\n",
       "        vertical-align: middle;\n",
       "    }\n",
       "\n",
       "    .dataframe tbody tr th {\n",
       "        vertical-align: top;\n",
       "    }\n",
       "\n",
       "    .dataframe thead th {\n",
       "        text-align: right;\n",
       "    }\n",
       "</style>\n",
       "<table border=\"1\" class=\"dataframe\">\n",
       "  <thead>\n",
       "    <tr style=\"text-align: right;\">\n",
       "      <th></th>\n",
       "      <th>match_id</th>\n",
       "      <th>season</th>\n",
       "      <th>start_date</th>\n",
       "      <th>venue</th>\n",
       "      <th>innings</th>\n",
       "      <th>ball</th>\n",
       "      <th>batting_team</th>\n",
       "      <th>bowling_team</th>\n",
       "      <th>striker</th>\n",
       "      <th>non_striker</th>\n",
       "      <th>bowler</th>\n",
       "      <th>runs_off_bat</th>\n",
       "      <th>extras</th>\n",
       "      <th>wides</th>\n",
       "      <th>noballs</th>\n",
       "      <th>byes</th>\n",
       "      <th>legbyes</th>\n",
       "      <th>penalty</th>\n",
       "      <th>wicket_type</th>\n",
       "      <th>player_dismissed</th>\n",
       "      <th>other_wicket_type</th>\n",
       "      <th>other_player_dismissed</th>\n",
       "      <th>year</th>\n",
       "    </tr>\n",
       "  </thead>\n",
       "  <tbody>\n",
       "    <tr>\n",
       "      <th>1251262</th>\n",
       "      <td>1187685</td>\n",
       "      <td>2019/20</td>\n",
       "      <td>2020-02-21</td>\n",
       "      <td>Basin Reserve</td>\n",
       "      <td>2</td>\n",
       "      <td>6.6</td>\n",
       "      <td>New Zealand</td>\n",
       "      <td>India</td>\n",
       "      <td>TWM Latham</td>\n",
       "      <td>TA Blundell</td>\n",
       "      <td>JJ Bumrah</td>\n",
       "      <td>0</td>\n",
       "      <td>0</td>\n",
       "      <td>NaN</td>\n",
       "      <td>NaN</td>\n",
       "      <td>NaN</td>\n",
       "      <td>NaN</td>\n",
       "      <td>NaN</td>\n",
       "      <td>NaN</td>\n",
       "      <td>NaN</td>\n",
       "      <td>NaN</td>\n",
       "      <td>NaN</td>\n",
       "      <td>2020</td>\n",
       "    </tr>\n",
       "  </tbody>\n",
       "</table>\n",
       "</div>"
      ],
      "text/plain": [
       "         match_id   season start_date          venue  innings  ball batting_team bowling_team     striker  non_striker     bowler  runs_off_bat  extras  wides  noballs  byes  legbyes  penalty wicket_type player_dismissed other_wicket_type other_player_dismissed  year\n",
       "1251262  1187685   2019/20 2020-02-21  Basin Reserve  2        6.6   New Zealand  India        TWM Latham  TA Blundell  JJ Bumrah  0             0      NaN    NaN      NaN   NaN      NaN       NaN         NaN              NaN               NaN                    2020"
      ]
     },
     "execution_count": 55,
     "metadata": {},
     "output_type": "execute_result"
    }
   ],
   "source": [
    "TL_df3.head(1)"
   ]
  },
  {
   "cell_type": "code",
   "execution_count": 56,
   "id": "3ba7debb",
   "metadata": {},
   "outputs": [],
   "source": [
    "# Matches = 2\n",
    "# Runs = 44\n",
    "# Balls = 85\n",
    "# Dismissed = 0\n",
    "# Avg = Na\n",
    "# SR = 51.76"
   ]
  },
  {
   "cell_type": "code",
   "execution_count": 57,
   "id": "2fe37772",
   "metadata": {},
   "outputs": [
    {
     "data": {
      "text/plain": [
       "2"
      ]
     },
     "execution_count": 57,
     "metadata": {},
     "output_type": "execute_result"
    }
   ],
   "source": [
    "len(TL_df3.match_id.unique())"
   ]
  },
  {
   "cell_type": "code",
   "execution_count": 58,
   "id": "0e57c6d0",
   "metadata": {},
   "outputs": [
    {
     "data": {
      "text/plain": [
       "44"
      ]
     },
     "execution_count": 58,
     "metadata": {},
     "output_type": "execute_result"
    }
   ],
   "source": [
    "sum(TL_df3.runs_off_bat)"
   ]
  },
  {
   "cell_type": "code",
   "execution_count": 59,
   "id": "4ac56d08",
   "metadata": {},
   "outputs": [
    {
     "data": {
      "text/plain": [
       "85"
      ]
     },
     "execution_count": 59,
     "metadata": {},
     "output_type": "execute_result"
    }
   ],
   "source": [
    "len(TL_df3)"
   ]
  },
  {
   "cell_type": "code",
   "execution_count": 60,
   "id": "387af607",
   "metadata": {},
   "outputs": [
    {
     "data": {
      "text/plain": [
       "0"
      ]
     },
     "execution_count": 60,
     "metadata": {},
     "output_type": "execute_result"
    }
   ],
   "source": [
    "len(TL_df3[TL_df3.player_dismissed == 'TWM Latham'])"
   ]
  },
  {
   "cell_type": "code",
   "execution_count": 61,
   "id": "59ede095",
   "metadata": {},
   "outputs": [
    {
     "data": {
      "text/plain": [
       "51.76470588235294"
      ]
     },
     "execution_count": 61,
     "metadata": {},
     "output_type": "execute_result"
    }
   ],
   "source": [
    "100*sum(TL_df3.runs_off_bat)/(len(TL_df3))"
   ]
  },
  {
   "cell_type": "code",
   "execution_count": 62,
   "id": "340567fe",
   "metadata": {},
   "outputs": [],
   "source": [
    "TL_df4 = modernera_df[(modernera_df.striker  == 'TWM Latham') & (modernera_df.bowler  == 'R Ashwin')]"
   ]
  },
  {
   "cell_type": "code",
   "execution_count": 63,
   "id": "983750eb",
   "metadata": {},
   "outputs": [
    {
     "data": {
      "text/html": [
       "<div>\n",
       "<style scoped>\n",
       "    .dataframe tbody tr th:only-of-type {\n",
       "        vertical-align: middle;\n",
       "    }\n",
       "\n",
       "    .dataframe tbody tr th {\n",
       "        vertical-align: top;\n",
       "    }\n",
       "\n",
       "    .dataframe thead th {\n",
       "        text-align: right;\n",
       "    }\n",
       "</style>\n",
       "<table border=\"1\" class=\"dataframe\">\n",
       "  <thead>\n",
       "    <tr style=\"text-align: right;\">\n",
       "      <th></th>\n",
       "      <th>match_id</th>\n",
       "      <th>season</th>\n",
       "      <th>start_date</th>\n",
       "      <th>venue</th>\n",
       "      <th>innings</th>\n",
       "      <th>ball</th>\n",
       "      <th>batting_team</th>\n",
       "      <th>bowling_team</th>\n",
       "      <th>striker</th>\n",
       "      <th>non_striker</th>\n",
       "      <th>bowler</th>\n",
       "      <th>runs_off_bat</th>\n",
       "      <th>extras</th>\n",
       "      <th>wides</th>\n",
       "      <th>noballs</th>\n",
       "      <th>byes</th>\n",
       "      <th>legbyes</th>\n",
       "      <th>penalty</th>\n",
       "      <th>wicket_type</th>\n",
       "      <th>player_dismissed</th>\n",
       "      <th>other_wicket_type</th>\n",
       "      <th>other_player_dismissed</th>\n",
       "      <th>year</th>\n",
       "    </tr>\n",
       "  </thead>\n",
       "  <tbody>\n",
       "    <tr>\n",
       "      <th>933539</th>\n",
       "      <td>1030213</td>\n",
       "      <td>2016/17</td>\n",
       "      <td>2016-09-22</td>\n",
       "      <td>Green Park</td>\n",
       "      <td>2</td>\n",
       "      <td>31.3</td>\n",
       "      <td>New Zealand</td>\n",
       "      <td>India</td>\n",
       "      <td>TWM Latham</td>\n",
       "      <td>KS Williamson</td>\n",
       "      <td>R Ashwin</td>\n",
       "      <td>1</td>\n",
       "      <td>0</td>\n",
       "      <td>NaN</td>\n",
       "      <td>NaN</td>\n",
       "      <td>NaN</td>\n",
       "      <td>NaN</td>\n",
       "      <td>NaN</td>\n",
       "      <td>NaN</td>\n",
       "      <td>NaN</td>\n",
       "      <td>NaN</td>\n",
       "      <td>NaN</td>\n",
       "      <td>2016</td>\n",
       "    </tr>\n",
       "  </tbody>\n",
       "</table>\n",
       "</div>"
      ],
      "text/plain": [
       "        match_id   season start_date       venue  innings  ball batting_team bowling_team     striker    non_striker    bowler  runs_off_bat  extras  wides  noballs  byes  legbyes  penalty wicket_type player_dismissed other_wicket_type other_player_dismissed  year\n",
       "933539  1030213   2016/17 2016-09-22  Green Park  2        31.3  New Zealand  India        TWM Latham  KS Williamson  R Ashwin  1             0      NaN    NaN      NaN   NaN      NaN       NaN         NaN              NaN               NaN                    2016"
      ]
     },
     "execution_count": 63,
     "metadata": {},
     "output_type": "execute_result"
    }
   ],
   "source": [
    "TL_df4.head(1)"
   ]
  },
  {
   "cell_type": "code",
   "execution_count": 64,
   "id": "49cccede",
   "metadata": {},
   "outputs": [],
   "source": [
    "# Matches = 3\n",
    "# Runs = 77\n",
    "# Balls = 149\n",
    "# Dismissed = 4\n",
    "# Avg = 19.25\n",
    "# SR = 51.68"
   ]
  },
  {
   "cell_type": "code",
   "execution_count": 65,
   "id": "5413d15f",
   "metadata": {},
   "outputs": [
    {
     "data": {
      "text/plain": [
       "3"
      ]
     },
     "execution_count": 65,
     "metadata": {},
     "output_type": "execute_result"
    }
   ],
   "source": [
    "len(TL_df4.match_id.unique())"
   ]
  },
  {
   "cell_type": "code",
   "execution_count": 66,
   "id": "fb75b785",
   "metadata": {},
   "outputs": [
    {
     "data": {
      "text/plain": [
       "77"
      ]
     },
     "execution_count": 66,
     "metadata": {},
     "output_type": "execute_result"
    }
   ],
   "source": [
    "sum(TL_df4.runs_off_bat)"
   ]
  },
  {
   "cell_type": "code",
   "execution_count": 67,
   "id": "ed7e6acd",
   "metadata": {},
   "outputs": [
    {
     "data": {
      "text/plain": [
       "149"
      ]
     },
     "execution_count": 67,
     "metadata": {},
     "output_type": "execute_result"
    }
   ],
   "source": [
    "len(TL_df4)"
   ]
  },
  {
   "cell_type": "code",
   "execution_count": 68,
   "id": "e4063f7b",
   "metadata": {
    "scrolled": true
   },
   "outputs": [
    {
     "data": {
      "text/plain": [
       "4"
      ]
     },
     "execution_count": 68,
     "metadata": {},
     "output_type": "execute_result"
    }
   ],
   "source": [
    "len(TL_df4[TL_df4.player_dismissed == 'TWM Latham'])"
   ]
  },
  {
   "cell_type": "code",
   "execution_count": 69,
   "id": "46916ee3",
   "metadata": {},
   "outputs": [
    {
     "data": {
      "text/plain": [
       "19.25"
      ]
     },
     "execution_count": 69,
     "metadata": {},
     "output_type": "execute_result"
    }
   ],
   "source": [
    "sum(TL_df4.runs_off_bat)/(len(TL_df4[TL_df4.player_dismissed == 'TWM Latham']))"
   ]
  },
  {
   "cell_type": "code",
   "execution_count": 70,
   "id": "9c493357",
   "metadata": {
    "scrolled": true
   },
   "outputs": [
    {
     "data": {
      "text/plain": [
       "51.67785234899329"
      ]
     },
     "execution_count": 70,
     "metadata": {},
     "output_type": "execute_result"
    }
   ],
   "source": [
    "100*sum(TL_df4.runs_off_bat)/(len(TL_df4))"
   ]
  },
  {
   "cell_type": "code",
   "execution_count": 71,
   "id": "ef2d914d",
   "metadata": {},
   "outputs": [],
   "source": [
    "TL_df5 = modernera_df[(modernera_df.striker  == 'TWM Latham') & (modernera_df.bowler  == 'RA Jadeja')]"
   ]
  },
  {
   "cell_type": "code",
   "execution_count": 72,
   "id": "354cdc44",
   "metadata": {},
   "outputs": [
    {
     "data": {
      "text/html": [
       "<div>\n",
       "<style scoped>\n",
       "    .dataframe tbody tr th:only-of-type {\n",
       "        vertical-align: middle;\n",
       "    }\n",
       "\n",
       "    .dataframe tbody tr th {\n",
       "        vertical-align: top;\n",
       "    }\n",
       "\n",
       "    .dataframe thead th {\n",
       "        text-align: right;\n",
       "    }\n",
       "</style>\n",
       "<table border=\"1\" class=\"dataframe\">\n",
       "  <thead>\n",
       "    <tr style=\"text-align: right;\">\n",
       "      <th></th>\n",
       "      <th>match_id</th>\n",
       "      <th>season</th>\n",
       "      <th>start_date</th>\n",
       "      <th>venue</th>\n",
       "      <th>innings</th>\n",
       "      <th>ball</th>\n",
       "      <th>batting_team</th>\n",
       "      <th>bowling_team</th>\n",
       "      <th>striker</th>\n",
       "      <th>non_striker</th>\n",
       "      <th>bowler</th>\n",
       "      <th>runs_off_bat</th>\n",
       "      <th>extras</th>\n",
       "      <th>wides</th>\n",
       "      <th>noballs</th>\n",
       "      <th>byes</th>\n",
       "      <th>legbyes</th>\n",
       "      <th>penalty</th>\n",
       "      <th>wicket_type</th>\n",
       "      <th>player_dismissed</th>\n",
       "      <th>other_wicket_type</th>\n",
       "      <th>other_player_dismissed</th>\n",
       "      <th>year</th>\n",
       "    </tr>\n",
       "  </thead>\n",
       "  <tbody>\n",
       "    <tr>\n",
       "      <th>733912</th>\n",
       "      <td>667653</td>\n",
       "      <td>2013/14</td>\n",
       "      <td>2014-02-14</td>\n",
       "      <td>Basin Reserve</td>\n",
       "      <td>3</td>\n",
       "      <td>31.4</td>\n",
       "      <td>New Zealand</td>\n",
       "      <td>India</td>\n",
       "      <td>TWM Latham</td>\n",
       "      <td>BB McCullum</td>\n",
       "      <td>RA Jadeja</td>\n",
       "      <td>0</td>\n",
       "      <td>0</td>\n",
       "      <td>NaN</td>\n",
       "      <td>NaN</td>\n",
       "      <td>NaN</td>\n",
       "      <td>NaN</td>\n",
       "      <td>NaN</td>\n",
       "      <td>NaN</td>\n",
       "      <td>NaN</td>\n",
       "      <td>NaN</td>\n",
       "      <td>NaN</td>\n",
       "      <td>2014</td>\n",
       "    </tr>\n",
       "  </tbody>\n",
       "</table>\n",
       "</div>"
      ],
      "text/plain": [
       "        match_id   season start_date          venue  innings  ball batting_team bowling_team     striker  non_striker     bowler  runs_off_bat  extras  wides  noballs  byes  legbyes  penalty wicket_type player_dismissed other_wicket_type other_player_dismissed  year\n",
       "733912  667653    2013/14 2014-02-14  Basin Reserve  3        31.4  New Zealand  India        TWM Latham  BB McCullum  RA Jadeja  0             0      NaN    NaN      NaN   NaN      NaN       NaN         NaN              NaN               NaN                    2014"
      ]
     },
     "execution_count": 72,
     "metadata": {},
     "output_type": "execute_result"
    }
   ],
   "source": [
    "TL_df5.head(1)"
   ]
  },
  {
   "cell_type": "code",
   "execution_count": 73,
   "id": "dfccaa69",
   "metadata": {},
   "outputs": [],
   "source": [
    "# Matches = 5\n",
    "# Runs = 64\n",
    "# Balls = 128\n",
    "# Dismissed = 0\n",
    "# Avg = Na\n",
    "# SR = 50"
   ]
  },
  {
   "cell_type": "code",
   "execution_count": 74,
   "id": "452fdf5b",
   "metadata": {},
   "outputs": [
    {
     "data": {
      "text/plain": [
       "5"
      ]
     },
     "execution_count": 74,
     "metadata": {},
     "output_type": "execute_result"
    }
   ],
   "source": [
    "len(TL_df5.match_id.unique())"
   ]
  },
  {
   "cell_type": "code",
   "execution_count": 75,
   "id": "a90c8ca4",
   "metadata": {},
   "outputs": [
    {
     "data": {
      "text/plain": [
       "64"
      ]
     },
     "execution_count": 75,
     "metadata": {},
     "output_type": "execute_result"
    }
   ],
   "source": [
    "sum(TL_df5.runs_off_bat)"
   ]
  },
  {
   "cell_type": "code",
   "execution_count": 76,
   "id": "7f84bd83",
   "metadata": {},
   "outputs": [
    {
     "data": {
      "text/plain": [
       "128"
      ]
     },
     "execution_count": 76,
     "metadata": {},
     "output_type": "execute_result"
    }
   ],
   "source": [
    "len(TL_df5)"
   ]
  },
  {
   "cell_type": "code",
   "execution_count": 77,
   "id": "19242014",
   "metadata": {},
   "outputs": [
    {
     "data": {
      "text/plain": [
       "0"
      ]
     },
     "execution_count": 77,
     "metadata": {},
     "output_type": "execute_result"
    }
   ],
   "source": [
    "len(TL_df5[TL_df5.player_dismissed == 'TWM Latham'])"
   ]
  },
  {
   "cell_type": "code",
   "execution_count": 78,
   "id": "76c138d0",
   "metadata": {},
   "outputs": [
    {
     "data": {
      "text/plain": [
       "50.0"
      ]
     },
     "execution_count": 78,
     "metadata": {},
     "output_type": "execute_result"
    }
   ],
   "source": [
    "100*sum(TL_df5.runs_off_bat)/(len(TL_df5))"
   ]
  },
  {
   "cell_type": "code",
   "execution_count": null,
   "id": "ea2d8be6",
   "metadata": {},
   "outputs": [],
   "source": []
  }
 ],
 "metadata": {
  "kernelspec": {
   "display_name": "Python 3",
   "language": "python",
   "name": "python3"
  },
  "language_info": {
   "codemirror_mode": {
    "name": "ipython",
    "version": 3
   },
   "file_extension": ".py",
   "mimetype": "text/x-python",
   "name": "python",
   "nbconvert_exporter": "python",
   "pygments_lexer": "ipython3",
   "version": "3.8.8"
  }
 },
 "nbformat": 4,
 "nbformat_minor": 5
}
